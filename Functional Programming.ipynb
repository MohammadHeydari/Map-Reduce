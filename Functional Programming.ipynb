{
  "nbformat": 4,
  "nbformat_minor": 0,
  "metadata": {
    "kernelspec": {
      "display_name": "Python 3",
      "language": "python",
      "name": "python3"
    },
    "language_info": {
      "codemirror_mode": {
        "name": "ipython",
        "version": 3
      },
      "file_extension": ".py",
      "mimetype": "text/x-python",
      "name": "python",
      "nbconvert_exporter": "python",
      "pygments_lexer": "ipython3",
      "version": "3.7.3"
    },
    "colab": {
      "name": "namebigdata1.ipynb",
      "provenance": [],
      "include_colab_link": true
    }
  },
  "cells": [
    {
      "cell_type": "markdown",
      "metadata": {
        "id": "view-in-github",
        "colab_type": "text"
      },
      "source": [
        "<a href=\"https://colab.research.google.com/github/MohammadHeydari/BigData/blob/master/namebigdata1.ipynb\" target=\"_parent\"><img src=\"https://colab.research.google.com/assets/colab-badge.svg\" alt=\"Open In Colab\"/></a>"
      ]
    },
    {
      "cell_type": "markdown",
      "metadata": {
        "id": "amYaHoFM0kzv",
        "colab_type": "text"
      },
      "source": [
        "# Assignment on Programming Techniques for Big Data\n",
        "\n",
        "Functional programming is the basis of most modern Big Data processing systems.\n",
        "Before going forward to the course, it is important to master data processing\n",
        "techniques using a functional programming style. In this assignment, your task \n",
        "is to train yourselves in thinking in a functional way when processing data. \n",
        "\n",
        "Many of the the tasks below are easy, but some are not and require many\n",
        "iterations (and extensive testing!) to get right. For some of them, you\n",
        "can find ready-made solutions on the internet. Even though it may be tempting,\n",
        "I advise you against copying and pasting them here, as you will regret it\n",
        "later on in the course.\n",
        "\n",
        "* For each function you define, you also need to define at least one working example.\n",
        "* Do not change the given function signatures.\n",
        "* Use functional programming for every question (besides the first section)."
      ]
    },
    {
      "cell_type": "markdown",
      "metadata": {
        "id": "K-WnYuNg0kzz",
        "colab_type": "text"
      },
      "source": [
        "## Foundations of functional programming\n",
        "\n",
        "In this part you will implement core functions that are vital to functional programming."
      ]
    },
    {
      "cell_type": "markdown",
      "metadata": {
        "id": "8NPsvYCY0kz0",
        "colab_type": "text"
      },
      "source": [
        "**T1** (5pts): Implement `map` using iteration for lists/arrays"
      ]
    },
    {
      "cell_type": "code",
      "metadata": {
        "id": "7YU6PZmw0kz1",
        "colab_type": "code",
        "colab": {},
        "outputId": "0ba2e115-12ed-4cdc-ccc5-835463b073e7"
      },
      "source": [
        "#mapping function on a list\n",
        "def map(func, xs):\n",
        "    #list variable\n",
        "    result = list()\n",
        "    #loop to access list values by passing function\n",
        "    for x in xs:\n",
        "        result.append(func(x))\n",
        "    return result\n",
        "\n",
        "#map function defination\n",
        "map(lambda x: x**2, range(7))"
      ],
      "execution_count": 0,
      "outputs": [
        {
          "output_type": "execute_result",
          "data": {
            "text/plain": [
              "[0, 1, 4, 9, 16, 25, 36]"
            ]
          },
          "metadata": {
            "tags": []
          },
          "execution_count": 158
        }
      ]
    },
    {
      "cell_type": "markdown",
      "metadata": {
        "id": "Q5m9RP6B0kz8",
        "colab_type": "text"
      },
      "source": [
        "**T2** (5pts): Implement `filter` using iteration for lists/arrays"
      ]
    },
    {
      "cell_type": "code",
      "metadata": {
        "id": "y0n_X--Y0kz9",
        "colab_type": "code",
        "colab": {},
        "outputId": "852fce35-cec0-4695-bab0-c69b0f792c38"
      },
      "source": [
        "#filtering func def to search on a list\n",
        "def filter(func, xs):\n",
        "    #list var\n",
        "    result = list()\n",
        "    for x in xs:\n",
        "        if (func(x)):\n",
        "            result.append(x)\n",
        "            \n",
        "    return result\n",
        "\n",
        "filter(lambda x: x % 2 == 0, range(7))"
      ],
      "execution_count": 0,
      "outputs": [
        {
          "output_type": "execute_result",
          "data": {
            "text/plain": [
              "[0, 2, 4, 6]"
            ]
          },
          "metadata": {
            "tags": []
          },
          "execution_count": 159
        }
      ]
    },
    {
      "cell_type": "markdown",
      "metadata": {
        "id": "UvBkNmrc0kz_",
        "colab_type": "text"
      },
      "source": [
        "**T3** (5pts): Implement `reduceL` using iteration for lists/arrays"
      ]
    },
    {
      "cell_type": "code",
      "metadata": {
        "id": "YyYhczOB0k0A",
        "colab_type": "code",
        "colab": {},
        "outputId": "ea240e69-48cb-460e-b3be-2b24ce435e23"
      },
      "source": [
        "def reduceL(func, xs, init):\n",
        "    for x in xs:\n",
        "        init = func(init , x)\n",
        "    return init\n",
        "#7-7 = 0, 0-6 = -6, -6-5 = -11, -11-4 = -15, -15-3 = -18, -18-2 = -20, -20-1 = -21\n",
        "reduceL(lambda x, y: x-y, range(7), 0)"
      ],
      "execution_count": 0,
      "outputs": [
        {
          "output_type": "execute_result",
          "data": {
            "text/plain": [
              "-21"
            ]
          },
          "metadata": {
            "tags": []
          },
          "execution_count": 185
        }
      ]
    },
    {
      "cell_type": "code",
      "metadata": {
        "id": "ewJfQXO00k0C",
        "colab_type": "code",
        "colab": {},
        "outputId": "9edc6cb7-46dd-4f99-acbf-c182e2619b44"
      },
      "source": [
        "reduceL(lambda x, y: x+y, ['a','b','c'], '')"
      ],
      "execution_count": 0,
      "outputs": [
        {
          "output_type": "execute_result",
          "data": {
            "text/plain": [
              "'abc'"
            ]
          },
          "metadata": {
            "tags": []
          },
          "execution_count": 186
        }
      ]
    },
    {
      "cell_type": "markdown",
      "metadata": {
        "id": "khliPjAH0k0E",
        "colab_type": "text"
      },
      "source": [
        "**T4** (5pts): Implement a function `flatten(xs: [[A]]): [A]` that converts a list of \n",
        "lists into a list formed by the elements of these lists. For example:\n",
        "\n",
        "```python\n",
        ">>> a = [[1,2],[2,3],[3,[4]]]\n",
        ">>> flatten(a)\n",
        "[1,2,2,3,3,[4]]\n",
        "```"
      ]
    },
    {
      "cell_type": "code",
      "metadata": {
        "id": "CSNKmlXm0k0F",
        "colab_type": "code",
        "colab": {},
        "outputId": "8fa46132-00f5-40bc-f2f5-131b2687624a"
      },
      "source": [
        "#input list\n",
        "xs = [[1,2,3],[4,5], [7,[8,9]]]\n",
        "\n",
        "#result\n",
        "result = []\n",
        "\n",
        "#flatten to remove nested lists in python\n",
        "def flatten(xs):\n",
        "    for i in xs:\n",
        "        if type(i) == list:\n",
        "            flatten(i)\n",
        "        else:\n",
        "            result.append(i)\n",
        "\n",
        "print(\"The original list is \", xs)\n",
        "flatten(xs)\n",
        "\n",
        "print(\"The list after removing nested is: \", result)\n",
        "\n",
        "flatten([[1,2,3],[4,5], [7,[8,9]]])"
      ],
      "execution_count": 0,
      "outputs": [
        {
          "output_type": "stream",
          "text": [
            "The original list is  [[1, 2, 3], [4, 5], [7, [8, 9]]]\n",
            "The list after removing nested is:  [1, 2, 3, 4, 5, 7, 8, 9]\n"
          ],
          "name": "stdout"
        }
      ]
    },
    {
      "cell_type": "markdown",
      "metadata": {
        "id": "iDsxc75E0k0H",
        "colab_type": "text"
      },
      "source": [
        "## More basic functions\n",
        "\n",
        "In every implementation from now (also in next steps)on you should reuse at least one of your answers to an earlier question."
      ]
    },
    {
      "cell_type": "markdown",
      "metadata": {
        "id": "CP5KuuoZ0k0I",
        "colab_type": "text"
      },
      "source": [
        "**T5** (10pts): Implement `reduceR` by reusing `reduceL`"
      ]
    },
    {
      "cell_type": "code",
      "metadata": {
        "id": "rt7wH97X0k0J",
        "colab_type": "code",
        "colab": {},
        "outputId": "c6a55aef-def3-4c52-83e3-6f2e7c7fb865"
      },
      "source": [
        "def reduceR(func, xs, init):\n",
        "    for items in xs:\n",
        "        init = func(init, items)\n",
        "    return init\n",
        "    '''length = len(xs)\n",
        "    for i in range(1, length+1):\n",
        "        init = func(xs[length - i], init)\n",
        "    return init'''\n",
        "\n",
        "reduceR(lambda x, y: x-y, range(7), 0)"
      ],
      "execution_count": 0,
      "outputs": [
        {
          "output_type": "execute_result",
          "data": {
            "text/plain": [
              "-21"
            ]
          },
          "metadata": {
            "tags": []
          },
          "execution_count": 179
        }
      ]
    },
    {
      "cell_type": "code",
      "metadata": {
        "id": "SoveHyTz0k0L",
        "colab_type": "code",
        "colab": {},
        "outputId": "6c812b22-f84c-4905-d740-8e93e5b08458"
      },
      "source": [
        "reduceR(lambda x, y: x+y, ['a','b','c'], '')"
      ],
      "execution_count": 0,
      "outputs": [
        {
          "output_type": "execute_result",
          "data": {
            "text/plain": [
              "'abc'"
            ]
          },
          "metadata": {
            "tags": []
          },
          "execution_count": 173
        }
      ]
    },
    {
      "cell_type": "markdown",
      "metadata": {
        "id": "CcB4ZmMa0k0N",
        "colab_type": "text"
      },
      "source": [
        "**T6** (10pts): Implement `group_by` by reusing `reduceL`."
      ]
    },
    {
      "cell_type": "code",
      "metadata": {
        "id": "ynNFXzmr0k0O",
        "colab_type": "code",
        "colab": {},
        "outputId": "1c406f8a-deef-4e93-8bfd-80034d47bb01"
      },
      "source": [
        "#input list\n",
        "xs = [1,2,3,4,5,6,7,8,9]\n",
        "\n",
        "#result\n",
        "result = []\n",
        "\n",
        "def group_by(xs, func):    \n",
        "    def helpme(someDictionary, item):\n",
        "        key = func(item)\n",
        "        if key in someDictionary.keys():\n",
        "            someDictionary[key].append(item)\n",
        "        else:\n",
        "            someDictionary[key] = [item]\n",
        "        return someDictionary\n",
        "    \n",
        "    return reduceL(xs, dict(), helpme)\n",
        "        \n",
        "\n",
        "def number_classifier(number):\n",
        "    if number % 2 == 0:\n",
        "        return \"even\"\n",
        "    else:\n",
        "        return \"odd\"\n",
        "\n",
        "#a = [1,2,3,4,5,6,7,8,9]\n",
        "final =  group_by(xs, number_classifier)\n",
        "print(final)"
      ],
      "execution_count": 0,
      "outputs": [
        {
          "output_type": "stream",
          "text": [
            "<function group_by.<locals>.helpme at 0x00000226601E6D90>\n"
          ],
          "name": "stdout"
        }
      ]
    },
    {
      "cell_type": "markdown",
      "metadata": {
        "id": "1BxkPIoB0k0Q",
        "colab_type": "text"
      },
      "source": [
        "## Simple data processing\n",
        "\n"
      ]
    },
    {
      "cell_type": "markdown",
      "metadata": {
        "id": "NiVCUQi40k0R",
        "colab_type": "text"
      },
      "source": [
        "**T7** (10pts): Implement `distinct` using `reduceL`. Also provide its function signature."
      ]
    },
    {
      "cell_type": "code",
      "metadata": {
        "id": "m4AC3jZK0k0R",
        "colab_type": "code",
        "colab": {},
        "outputId": "59d964f9-26e0-4409-8972-9b3be6b384ab"
      },
      "source": [
        "# distinct(xs:[A]): [A]\n",
        "def distinct(xs):\n",
        "    def addDistinct(xs, item):\n",
        "        if item not in xs:\n",
        "            xs.append(item)\n",
        "        return xs\n",
        "    return reduceL(xs, [], addDistinct)\n",
        "\n",
        "a = [1,2,3,1,2,3,4,5,6,5,4,3,2,1]\n",
        "distinct(a)"
      ],
      "execution_count": 0,
      "outputs": [
        {
          "output_type": "execute_result",
          "data": {
            "text/plain": [
              "<function __main__.distinct.<locals>.addDistinct(xs, item)>"
            ]
          },
          "metadata": {
            "tags": []
          },
          "execution_count": 113
        }
      ]
    },
    {
      "cell_type": "markdown",
      "metadata": {
        "id": "n1EH_8rt0k0T",
        "colab_type": "text"
      },
      "source": [
        "**T8** (5pts): Implement `flatmap` and provide its function signature."
      ]
    },
    {
      "cell_type": "code",
      "metadata": {
        "scrolled": true,
        "id": "fUyej3is0k0U",
        "colab_type": "code",
        "colab": {},
        "outputId": "8bf34d4b-b6d7-4b77-edd6-7e1a1b2cea0e"
      },
      "source": [
        "# flatmap(func: A -> [B], [A]): [B]\n",
        "def flatmap(func, xs):\n",
        "    return [j for i in xs for j in func(i)]\n",
        "                  #outerloop  #innerloop\n",
        "\n",
        "flatmap(lambda x: list(range(x)), range(5))"
      ],
      "execution_count": 0,
      "outputs": [
        {
          "output_type": "execute_result",
          "data": {
            "text/plain": [
              "[0, 0, 1, 0, 1, 2, 0, 1, 2, 3]"
            ]
          },
          "metadata": {
            "tags": []
          },
          "execution_count": 114
        }
      ]
    },
    {
      "cell_type": "markdown",
      "metadata": {
        "id": "2gofyjWB0k0W",
        "colab_type": "text"
      },
      "source": [
        "**T9** (5pts): Implement `max(xs: [Integer]): Integer` that finds the largest value in `xs`. You can assume the list is non-empty."
      ]
    },
    {
      "cell_type": "code",
      "metadata": {
        "id": "vfnJvkRc0k0W",
        "colab_type": "code",
        "colab": {}
      },
      "source": [
        "def max(xs):\n",
        "    pass\n",
        "max([1,59,42,27,38])"
      ],
      "execution_count": 0,
      "outputs": []
    },
    {
      "cell_type": "markdown",
      "metadata": {
        "id": "PPsS_PZ80k0Y",
        "colab_type": "text"
      },
      "source": [
        "## Higher-order functions\n",
        "\n",
        "\n",
        "**T10** (10pts): Implement a function called `drop_while(f: A -> Boolean, xs: [A]) : [A]` \n",
        "that drops the longest prefix of elements from `xs` that satisfy `f`.\n",
        "\n",
        "```python\n",
        ">>> a = [1,2,3,4,5,6]\n",
        ">>> dropWhile(lambda x: x <= 3, a)\n",
        "[4,5,6]\n",
        "```"
      ]
    },
    {
      "cell_type": "code",
      "metadata": {
        "id": "3sZVkGUi0k0Z",
        "colab_type": "code",
        "colab": {}
      },
      "source": [
        "def drop_while(func, xs):\n",
        "    pass\n",
        "\n",
        "drop_while(lambda x: x <= 3, [1,2,1,3,5,3,1,4,1,5,6])"
      ],
      "execution_count": 0,
      "outputs": []
    },
    {
      "cell_type": "code",
      "metadata": {
        "id": "jfZda9U-0k0d",
        "colab_type": "code",
        "colab": {}
      },
      "source": [
        "#[5, 3, 1, 4, 1, 5, 6]"
      ],
      "execution_count": 0,
      "outputs": []
    },
    {
      "cell_type": "markdown",
      "metadata": {
        "id": "V9iH2McO0k0f",
        "colab_type": "text"
      },
      "source": [
        "**T10** (15pts): Implement a function `zip(xs: [A], ys: [B]): List[(A,B)]` that returns a list formed from this list and another list by combining the corresponding elements in pairs. If one of the two lists is longer \n",
        "than the other, its remaining elements are ignored. \n",
        "\n",
        "```python\n",
        ">>> a = [1,2,3,4]\n",
        ">>> b = [a,b,c,d,e]\n",
        ">>> zip(a,b)\n",
        "[(1, 'a'), (2, 'b'), (3, 'c'), (4,'d')]\n",
        "```"
      ]
    },
    {
      "cell_type": "code",
      "metadata": {
        "scrolled": true,
        "id": "cTtOLEkD0k0f",
        "colab_type": "code",
        "colab": {}
      },
      "source": [
        "def zip(xs, ys):\n",
        "    pass\n",
        "\n",
        "\n",
        "a = [2,3,4]\n",
        "b = ['a','b','c','d']\n",
        "zip(a,b)"
      ],
      "execution_count": 0,
      "outputs": []
    },
    {
      "cell_type": "code",
      "metadata": {
        "id": "z42ThK_B0k0h",
        "colab_type": "code",
        "colab": {}
      },
      "source": [
        "#[(2, 'a'), (3, 'b'), (4, 'c')]"
      ],
      "execution_count": 0,
      "outputs": []
    },
    {
      "cell_type": "markdown",
      "metadata": {
        "id": "9KP2ET280k0j",
        "colab_type": "text"
      },
      "source": [
        "**T10** (15pts): Implement a function \n",
        "`scanL(f: (acc: B, x: A) -> B, xs: [A], init: B) -> [B]`\n",
        "that works like `reduceL` but instead of producing one final result, it also\n",
        "returns all the intermediate results.\n",
        "\n",
        "```python\n",
        ">>> a = [2,3,4]\n",
        ">>> scanL(a, 0, lambda x, y: x + y)\n",
        "[0, 2, 5, 9]\n",
        "```"
      ]
    },
    {
      "cell_type": "code",
      "metadata": {
        "id": "zzLeyC610k0j",
        "colab_type": "code",
        "colab": {}
      },
      "source": [
        "def scanL(func, xs, init):\n",
        "    pass\n",
        "    \n",
        "scanL(lambda x, y: x + y, [2,3,4], 0)"
      ],
      "execution_count": 0,
      "outputs": []
    },
    {
      "cell_type": "code",
      "metadata": {
        "id": "GY0pATUr0k0m",
        "colab_type": "code",
        "colab": {}
      },
      "source": [
        "#[0, 2, 5, 9]"
      ],
      "execution_count": 0,
      "outputs": []
    }
  ]
}